{
  "nbformat": 4,
  "nbformat_minor": 0,
  "metadata": {
    "colab": {
      "provenance": [],
      "authorship_tag": "ABX9TyPNKelTCPGDhE7euGkV7G5y",
      "include_colab_link": true
    },
    "kernelspec": {
      "name": "python3",
      "display_name": "Python 3"
    },
    "language_info": {
      "name": "python"
    }
  },
  "cells": [
    {
      "cell_type": "markdown",
      "metadata": {
        "id": "view-in-github",
        "colab_type": "text"
      },
      "source": [
        "<a href=\"https://colab.research.google.com/github/disenoUDP/dis9034-2024-1/blob/main/intro_python_bash.ipynb\" target=\"_parent\"><img src=\"https://colab.research.google.com/assets/colab-badge.svg\" alt=\"Open In Colab\"/></a>"
      ]
    },
    {
      "cell_type": "code",
      "execution_count": null,
      "metadata": {
        "colab": {
          "base_uri": "https://localhost:8080/"
        },
        "id": "71FajmSOoxZL",
        "outputId": "10ac5bd5-d858-4513-a793-5128658db154"
      },
      "outputs": [
        {
          "output_type": "execute_result",
          "data": {
            "text/plain": [
              "5"
            ]
          },
          "metadata": {},
          "execution_count": 1
        }
      ],
      "source": [
        "# python\n",
        "# usaremos Python 3.x\n",
        "# lo usaremos en este entorno, con extensión .ippynb\n",
        "# significa interactive python notebook"
      ]
    },
    {
      "cell_type": "code",
      "source": [
        "# podemos sumar numeros\n",
        "2 + 3"
      ],
      "metadata": {
        "id": "wRX-KRkZo3Nv"
      },
      "execution_count": null,
      "outputs": []
    },
    {
      "cell_type": "code",
      "source": [
        "# podemos crear variables asi\n",
        "x = \"hola\""
      ],
      "metadata": {
        "id": "hmdPUxN0pAvD"
      },
      "execution_count": null,
      "outputs": []
    },
    {
      "cell_type": "code",
      "source": [
        "# podemos imprimir los contenidos de una variable asi\n",
        "print(x)"
      ],
      "metadata": {
        "colab": {
          "base_uri": "https://localhost:8080/"
        },
        "id": "Z5o7sK-3pJU7",
        "outputId": "234d8e5e-5e61-4068-f8f6-cfdfd3f6bedc"
      },
      "execution_count": null,
      "outputs": [
        {
          "output_type": "stream",
          "name": "stdout",
          "text": [
            "hola\n"
          ]
        }
      ]
    },
    {
      "cell_type": "code",
      "source": [
        "# usaremos python por ser un lenguaje\n",
        "# muy popular\n",
        "# con muchas bibliotecas\n",
        "# de una fundacion"
      ],
      "metadata": {
        "id": "MIQBTUPLpPTW"
      },
      "execution_count": null,
      "outputs": []
    },
    {
      "cell_type": "code",
      "source": [
        "# estamos corriendo este notebook en un entorno\n",
        "# que se llama Google Colab\n",
        "# que no solamente puede correr Python\n",
        "# tambien puede correr bash\n",
        "# usando el prefijo !\n",
        "# si queremos usar el comando pwd escribimos\n",
        "!pwd"
      ],
      "metadata": {
        "colab": {
          "base_uri": "https://localhost:8080/"
        },
        "id": "WYdwk84hpahZ",
        "outputId": "3a09d0cd-e4f1-4a50-aabe-bb369ffde100"
      },
      "execution_count": null,
      "outputs": [
        {
          "output_type": "stream",
          "name": "stdout",
          "text": [
            "/content\n"
          ]
        }
      ]
    },
    {
      "cell_type": "code",
      "source": [
        "# para listar los contenidos de la carpeta usamos ls\n",
        "!ls"
      ],
      "metadata": {
        "colab": {
          "base_uri": "https://localhost:8080/"
        },
        "id": "svF5Z9XKplCs",
        "outputId": "563cbf47-f677-47d8-f2f9-16d4a56f0498"
      },
      "execution_count": null,
      "outputs": [
        {
          "output_type": "stream",
          "name": "stdout",
          "text": [
            "sample_data\n"
          ]
        }
      ]
    }
  ]
}