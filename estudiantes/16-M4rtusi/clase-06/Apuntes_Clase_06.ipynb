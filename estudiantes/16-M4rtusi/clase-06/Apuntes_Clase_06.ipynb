{
  "nbformat": 4,
  "nbformat_minor": 0,
  "metadata": {
    "colab": {
      "provenance": []
    },
    "kernelspec": {
      "name": "python3",
      "display_name": "Python 3"
    },
    "language_info": {
      "name": "python"
    }
  },
  "cells": [
    {
      "cell_type": "code",
      "execution_count": 4,
      "metadata": {
        "colab": {
          "base_uri": "https://localhost:8080/",
          "height": 35
        },
        "id": "Fdh4WHDQHDbA",
        "outputId": "6a5dad56-aff4-4001-f7ca-c47f06fb4c67"
      },
      "outputs": [
        {
          "output_type": "execute_result",
          "data": {
            "text/plain": [
              "'aaaaaaa'"
            ],
            "application/vnd.google.colaboratory.intrinsic+json": {
              "type": "string"
            }
          },
          "metadata": {},
          "execution_count": 4
        }
      ],
      "source": [
        "# esto es un comentariooo hola!!!\n",
        "# en esta clase vamos a usar python 3.x\n",
        "# no python 2.x pork ta viejujo\n",
        "# Numpy: bilbioteca numeros de python\n",
        "# Scipy :biblioteca de codigo abierto\n",
        "'a' * 7\n",
        "\n"
      ]
    },
    {
      "cell_type": "code",
      "source": [
        "# Sam Lavigne: lav.io\n",
        "# vamos a revisar la herramienta https://ffmpeg.lav.io/"
      ],
      "metadata": {
        "id": "jY6xdgk_I6Nw"
      },
      "execution_count": null,
      "outputs": []
    },
    {
      "cell_type": "code",
      "source": [
        "# Trabajo en clase, Prueba ffmpeg:\n",
        "# ffmpeg -i color_gradient.mp4 -filter_complex \"[0:v]pixelize=width=20:w=20:height=20:h=20,setpts=expr=0.1*PTS,loop=loop=50:size=300:start=100[out_v]\" -map \"[out_v]\" out.mp4"
      ],
      "metadata": {
        "id": "7m59MeAilXHP"
      },
      "execution_count": null,
      "outputs": []
    },
    {
      "cell_type": "code",
      "source": [
        "!ls"
      ],
      "metadata": {
        "colab": {
          "base_uri": "https://localhost:8080/"
        },
        "id": "gwMokdwxl2PC",
        "outputId": "dd3a6fc2-bffa-4bf7-ec73-9c0b15ecec28"
      },
      "execution_count": 9,
      "outputs": [
        {
          "output_type": "stream",
          "name": "stdout",
          "text": [
            "ffmpeg_prueba_clase06.mp4  sample_data\tvideoOriginal.mp4\n"
          ]
        }
      ]
    },
    {
      "cell_type": "code",
      "source": [
        "pip install videogrep"
      ],
      "metadata": {
        "colab": {
          "base_uri": "https://localhost:8080/"
        },
        "id": "g_AbVsEBS3TN",
        "outputId": "9b167f09-f81a-4ca1-c12e-0d528ba00bc2"
      },
      "execution_count": 8,
      "outputs": [
        {
          "output_type": "stream",
          "name": "stdout",
          "text": [
            "Requirement already satisfied: videogrep in /usr/local/lib/python3.10/dist-packages (2.2.1)\n",
            "Requirement already satisfied: beautifulsoup4<5.0.0,>=4.11.1 in /usr/local/lib/python3.10/dist-packages (from videogrep) (4.12.3)\n",
            "Requirement already satisfied: moviepy<2.0.0,>=1.0.3 in /usr/local/lib/python3.10/dist-packages (from videogrep) (1.0.3)\n",
            "Requirement already satisfied: soupsieve>1.2 in /usr/local/lib/python3.10/dist-packages (from beautifulsoup4<5.0.0,>=4.11.1->videogrep) (2.5)\n",
            "Requirement already satisfied: decorator<5.0,>=4.0.2 in /usr/local/lib/python3.10/dist-packages (from moviepy<2.0.0,>=1.0.3->videogrep) (4.4.2)\n",
            "Requirement already satisfied: tqdm<5.0,>=4.11.2 in /usr/local/lib/python3.10/dist-packages (from moviepy<2.0.0,>=1.0.3->videogrep) (4.66.2)\n",
            "Requirement already satisfied: requests<3.0,>=2.8.1 in /usr/local/lib/python3.10/dist-packages (from moviepy<2.0.0,>=1.0.3->videogrep) (2.31.0)\n",
            "Requirement already satisfied: proglog<=1.0.0 in /usr/local/lib/python3.10/dist-packages (from moviepy<2.0.0,>=1.0.3->videogrep) (0.1.10)\n",
            "Requirement already satisfied: numpy>=1.17.3 in /usr/local/lib/python3.10/dist-packages (from moviepy<2.0.0,>=1.0.3->videogrep) (1.25.2)\n",
            "Requirement already satisfied: imageio<3.0,>=2.5 in /usr/local/lib/python3.10/dist-packages (from moviepy<2.0.0,>=1.0.3->videogrep) (2.31.6)\n",
            "Requirement already satisfied: imageio-ffmpeg>=0.2.0 in /usr/local/lib/python3.10/dist-packages (from moviepy<2.0.0,>=1.0.3->videogrep) (0.4.9)\n",
            "Requirement already satisfied: pillow<10.1.0,>=8.3.2 in /usr/local/lib/python3.10/dist-packages (from imageio<3.0,>=2.5->moviepy<2.0.0,>=1.0.3->videogrep) (9.4.0)\n",
            "Requirement already satisfied: setuptools in /usr/local/lib/python3.10/dist-packages (from imageio-ffmpeg>=0.2.0->moviepy<2.0.0,>=1.0.3->videogrep) (67.7.2)\n",
            "Requirement already satisfied: charset-normalizer<4,>=2 in /usr/local/lib/python3.10/dist-packages (from requests<3.0,>=2.8.1->moviepy<2.0.0,>=1.0.3->videogrep) (3.3.2)\n",
            "Requirement already satisfied: idna<4,>=2.5 in /usr/local/lib/python3.10/dist-packages (from requests<3.0,>=2.8.1->moviepy<2.0.0,>=1.0.3->videogrep) (3.6)\n",
            "Requirement already satisfied: urllib3<3,>=1.21.1 in /usr/local/lib/python3.10/dist-packages (from requests<3.0,>=2.8.1->moviepy<2.0.0,>=1.0.3->videogrep) (2.0.7)\n",
            "Requirement already satisfied: certifi>=2017.4.17 in /usr/local/lib/python3.10/dist-packages (from requests<3.0,>=2.8.1->moviepy<2.0.0,>=1.0.3->videogrep) (2024.2.2)\n"
          ]
        }
      ]
    }
  ]
}